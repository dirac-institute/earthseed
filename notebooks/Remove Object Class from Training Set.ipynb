{
 "cells": [
  {
   "cell_type": "markdown",
   "metadata": {},
   "source": [
    "## Remove Object Class from Training Set"
   ]
  },
  {
   "cell_type": "markdown",
   "metadata": {},
   "source": [
    "**Objective:** Learn how to remove objects within the `avocado` training set so that we can isolate specfic objects as \"anomalous\" in our training process.\n",
    "\n",
    "**Notes:**\n",
    "* Quick-view all attributes of an object with `pprint(vars(object_name))`\n",
    "* In [avocado_paper_figures.ipynb](https://github.com/lfulmer/avocado/blob/master/notebooks/avocado_paper_figures.ipynb), what does \"predictions\" mean?"
   ]
  },
  {
   "cell_type": "code",
   "execution_count": 1,
   "metadata": {},
   "outputs": [
    {
     "data": {
      "text/plain": [
       "'/astro/users/lfulmer/.conda/envs/earthseed/lib/python3.8/site-packages/avocado-0.1-py3.8.egg/avocado/__init__.py'"
      ]
     },
     "execution_count": 1,
     "metadata": {},
     "output_type": "execute_result"
    }
   ],
   "source": [
    "# Imports\n",
    "\n",
    "# Standard\n",
    "import sys\n",
    "import copy\n",
    "\n",
    "import numpy as np\n",
    "import pandas as pd\n",
    "from pprint import pprint\n",
    "import matplotlib.pyplot as plt\n",
    "from matplotlib import rcParams\n",
    "\n",
    "# Auxillary\n",
    "import avocado\n",
    "avocado.__file__"
   ]
  },
  {
   "cell_type": "code",
   "execution_count": 2,
   "metadata": {},
   "outputs": [],
   "source": [
    "### Load the plasticc training set from a .h5 file, including both observations and metadata\n",
    "train = avocado.Dataset.load(\"plasticc_train\")\n",
    "\n",
    "### Load the plasstic testing set from a .h5 file, including both observations and metadata\n",
    "### THIS TAKES A WHILE. DON'T DO THIS MORE THAN ONCE IF YOU CAN HELP IT.\n",
    "# testing_set = avocado.Dataset.load(\"plasticc_test\")"
   ]
  },
  {
   "cell_type": "markdown",
   "metadata": {},
   "source": [
    "### Explore the training set"
   ]
  },
  {
   "cell_type": "code",
   "execution_count": 4,
   "metadata": {},
   "outputs": [
    {
     "name": "stdout",
     "output_type": "stream",
     "text": [
      "When we first load the training set, it contains 7848 objects.\n"
     ]
    }
   ],
   "source": [
    "# How many astronomical objects are in the training set?\n",
    "print(f\"When we first load the training set, it contains {len(train.metadata)} objects.\")"
   ]
  },
  {
   "cell_type": "code",
   "execution_count": 7,
   "metadata": {},
   "outputs": [
    {
     "name": "stdout",
     "output_type": "stream",
     "text": [
      "{'chunk': None,\n",
      " 'classifier': None,\n",
      " 'features': None,\n",
      " 'metadata':                           ra     decl    ddf  host_specz  host_photoz  \\\n",
      "object_id                                                               \n",
      "plasticc_000000615  349.0461 -61.9438   True       0.000        0.000   \n",
      "plasticc_000000713   53.0859 -27.7844   True       1.818        1.627   \n",
      "plasticc_000000730   33.5742  -6.5796   True       0.232        0.226   \n",
      "plasticc_000000745    0.1899 -45.5867   True       0.304        0.281   \n",
      "plasticc_000001124  352.7113 -63.8237   True       0.193        0.241   \n",
      "...                      ...      ...    ...         ...          ...   \n",
      "plasticc_130739978   26.7188 -14.9403  False       0.000        0.000   \n",
      "plasticc_130755807  120.1013 -62.6967  False       0.172        2.561   \n",
      "plasticc_130762946  203.1081 -55.6821  False       0.000        0.000   \n",
      "plasticc_130772921   79.1016 -35.5018  False       0.000        0.000   \n",
      "plasticc_130779836  301.9922 -17.4263  False       0.000        0.000   \n",
      "\n",
      "                    host_photoz_error  mwebv  class  true_submodel  redshift  \\\n",
      "object_id                                                                      \n",
      "plasticc_000000615              0.000  0.017     92              1     0.000   \n",
      "plasticc_000000713              0.255  0.007     88              1     1.817   \n",
      "plasticc_000000730              0.016  0.021     42              2     0.233   \n",
      "plasticc_000000745              1.152  0.007     90              1     0.301   \n",
      "plasticc_000001124              0.018  0.024     90              1     0.193   \n",
      "...                               ...    ...    ...            ...       ...   \n",
      "plasticc_130739978              0.000  0.013     65              1     0.000   \n",
      "plasticc_130755807              1.115  0.136     90              1     0.172   \n",
      "plasticc_130762946              0.000  0.430     16              1     0.000   \n",
      "plasticc_130772921              0.000  0.034     65              1     0.000   \n",
      "plasticc_130779836              0.000  0.091      6              1     0.000   \n",
      "\n",
      "                    ...  true_av  true_peakmjd  libid_cadence  tflux_u  \\\n",
      "object_id           ...                                                  \n",
      "plasticc_000000615  ...      0.0     59570.000             69    484.7   \n",
      "plasticc_000000713  ...      0.0     59570.000             34    108.7   \n",
      "plasticc_000000730  ...      0.0     60444.379              9      0.0   \n",
      "plasticc_000000745  ...      0.0     60130.453             38      0.0   \n",
      "plasticc_000001124  ...      0.0     60452.641              1      0.0   \n",
      "...                 ...      ...           ...            ...      ...   \n",
      "plasticc_130739978  ...      0.0     59570.000          18232     26.4   \n",
      "plasticc_130755807  ...      0.0     60056.809          14934      0.0   \n",
      "plasticc_130762946  ...      0.0     59570.000          47805     83.8   \n",
      "plasticc_130772921  ...      0.0     59570.000          22240      1.9   \n",
      "plasticc_130779836  ...      0.0     59905.160            305   6134.1   \n",
      "\n",
      "                    tflux_g  tflux_r  tflux_i  tflux_z  tflux_y  galactic  \n",
      "object_id                                                                  \n",
      "plasticc_000000615   3286.7   3214.1   3039.7   2854.5   2837.0      True  \n",
      "plasticc_000000713    117.7    119.9    149.6    147.9    150.5     False  \n",
      "plasticc_000000730      0.0      0.0      0.0      0.0      0.0     False  \n",
      "plasticc_000000745      0.0      0.0      0.0      0.0      0.0     False  \n",
      "plasticc_000001124      0.0      0.0      0.0      0.0      0.0     False  \n",
      "...                     ...      ...      ...      ...      ...       ...  \n",
      "plasticc_130739978    267.6    742.8   3295.1   6047.5   7955.2      True  \n",
      "plasticc_130755807      0.0      0.0      0.0      0.0      0.0     False  \n",
      "plasticc_130762946   1124.7   1445.1   1191.2    848.9    382.5      True  \n",
      "plasticc_130772921     14.4     49.4    244.3    534.8    897.2      True  \n",
      "plasticc_130779836  23008.9  36299.5  41257.7  43047.7  44230.7      True  \n",
      "\n",
      "[7848 rows x 24 columns],\n",
      " 'models': None,\n",
      " 'name': 'plasticc_train',\n",
      " 'num_chunks': None,\n",
      " 'objects': array([AstronomicalObject(object_id=plasticc_000000615),\n",
      "       AstronomicalObject(object_id=plasticc_000000713),\n",
      "       AstronomicalObject(object_id=plasticc_000000730), ...,\n",
      "       AstronomicalObject(object_id=plasticc_130762946),\n",
      "       AstronomicalObject(object_id=plasticc_130772921),\n",
      "       AstronomicalObject(object_id=plasticc_130779836)], dtype=object),\n",
      " 'predictions': None,\n",
      " 'raw_features': None}\n",
      "{'_default_gaussian_process': None,\n",
      " 'metadata': {'class': 92,\n",
      "              'ddf': True,\n",
      "              'decl': -61.9438,\n",
      "              'galactic': True,\n",
      "              'host_photoz': 0.0,\n",
      "              'host_photoz_error': 0.0,\n",
      "              'host_specz': 0.0,\n",
      "              'libid_cadence': 69,\n",
      "              'mwebv': 0.017,\n",
      "              'object_id': 'plasticc_000000615',\n",
      "              'ra': 349.0461,\n",
      "              'redshift': 0.0,\n",
      "              'tflux_g': 3286.7,\n",
      "              'tflux_i': 3039.7,\n",
      "              'tflux_r': 3214.1,\n",
      "              'tflux_u': 484.7,\n",
      "              'tflux_y': 2837.0,\n",
      "              'tflux_z': 2854.5,\n",
      "              'true_av': 0.0,\n",
      "              'true_distmod': 0.0,\n",
      "              'true_lensdmu': 0.0,\n",
      "              'true_peakmjd': 59570.0,\n",
      "              'true_rv': 0.0,\n",
      "              'true_submodel': 1,\n",
      "              'true_vpec': 0.0},\n",
      " 'observations':               object_id        time        flux  flux_error  detected   band\n",
      "0    plasticc_000000615  59750.4229 -544.810303    3.622952         1  lsstr\n",
      "1    plasticc_000000615  59750.4306 -816.434326    5.553370         1  lsstg\n",
      "2    plasticc_000000615  59750.4383 -471.385529    3.801213         1  lssti\n",
      "3    plasticc_000000615  59750.4450 -388.984985   11.395031         1  lsstz\n",
      "4    plasticc_000000615  59752.4070 -681.858887    4.041204         1  lsstr\n",
      "..                  ...         ...         ...         ...       ...    ...\n",
      "347  plasticc_000000615  60624.1760  552.150269    3.917989         1  lsstr\n",
      "348  plasticc_000000615  60624.1836  607.047668    5.140991         1  lsstg\n",
      "349  plasticc_000000615  60624.1913  296.946533    3.475000         1  lssti\n",
      "350  plasticc_000000615  60624.2022  235.489929    3.926538         1  lsstz\n",
      "351  plasticc_000000615  60624.2132  157.080200    8.453112         1  lssty\n",
      "\n",
      "[352 rows x 6 columns]}\n"
     ]
    }
   ],
   "source": [
    "# What attributes do these avocado objects have?\n",
    "pprint(vars(train))\n",
    "pprint(vars(train.get_object(0)))"
   ]
  },
  {
   "cell_type": "code",
   "execution_count": 8,
   "metadata": {},
   "outputs": [
    {
     "name": "stdout",
     "output_type": "stream",
     "text": [
      "Index(['ra', 'decl', 'ddf', 'host_specz', 'host_photoz', 'host_photoz_error',\n",
      "       'mwebv', 'class', 'true_submodel', 'redshift', 'true_distmod',\n",
      "       'true_lensdmu', 'true_vpec', 'true_rv', 'true_av', 'true_peakmjd',\n",
      "       'libid_cadence', 'tflux_u', 'tflux_g', 'tflux_r', 'tflux_i', 'tflux_z',\n",
      "       'tflux_y', 'galactic'],\n",
      "      dtype='object')\n",
      "Index(['object_id', 'time', 'flux', 'flux_error', 'detected', 'band'], dtype='object')\n"
     ]
    }
   ],
   "source": [
    "# What columns do the metadata and observations have?\n",
    "print(train.metadata.columns)\n",
    "print(train.get_object(0).observations.columns)"
   ]
  },
  {
   "cell_type": "code",
   "execution_count": 12,
   "metadata": {},
   "outputs": [],
   "source": [
    "# Print one class\n",
    "# train.metadata[train.metadata['class'] == 92]\n",
    "# train.objects[train.metadata['class'] == 92]"
   ]
  },
  {
   "cell_type": "code",
   "execution_count": 11,
   "metadata": {},
   "outputs": [],
   "source": [
    "# Print everything but one class\n",
    "# train.metadata[train.metadata['class'] != 92]\n",
    "# train.objects[train.metadata['class'] != 92]"
   ]
  },
  {
   "cell_type": "code",
   "execution_count": 4,
   "metadata": {},
   "outputs": [],
   "source": [
    "### Make copies for the isolate_ and remove_ training sets\n",
    "isolate_train = copy.copy(train)\n",
    "remove_train = copy.copy(train)"
   ]
  },
  {
   "cell_type": "markdown",
   "metadata": {},
   "source": [
    "### Create a mask that removes an astronomical object class from the training set\n",
    "Class 64 is a [kilonova](https://en.wikipedia.org/wiki/Kilonova), \"when two neutronstars or a neutron star and a black hole merge into each other.\""
   ]
  },
  {
   "cell_type": "code",
   "execution_count": 14,
   "metadata": {},
   "outputs": [],
   "source": [
    "# Choose a specific class, and create masks that isolate and remove the chosen class\n",
    "\n",
    "specific_class = 64\n",
    "isolate_mask = train.metadata['class'] == specific_class\n",
    "remove_mask = train.metadata['class'] != specific_class"
   ]
  },
  {
   "cell_type": "markdown",
   "metadata": {},
   "source": [
    "### Redefine the training set \n",
    "... to include only selected object classes (or to remove a selected object class)"
   ]
  },
  {
   "cell_type": "code",
   "execution_count": 6,
   "metadata": {},
   "outputs": [],
   "source": [
    "# Redefine\n",
    "\n",
    "isolate_train.metadata = train.metadata[isolate_mask]\n",
    "isolate_train.objects = train.objects[isolate_mask]\n",
    "isolate_train.name = 'plasticc_isolate_train'\n",
    "\n",
    "remove_train.metadata = train.metadata[remove_mask]\n",
    "remove_train.objects = train.objects[remove_mask]\n",
    "remove_train.name = 'plasticc_remove_train'"
   ]
  },
  {
   "cell_type": "markdown",
   "metadata": {},
   "source": [
    "**Next:** Save the new training set with a single object class removed. Adjust settings within avocado so that I can run <br> `avocado_augment plasticc_remove_train plasticc_remove_augment` on Epyc. See [avocado documentation](https://avocado-classifier.readthedocs.io/en/latest/plasticc.html#augmenting-the-plasticc-dataset)."
   ]
  },
  {
   "cell_type": "markdown",
   "metadata": {},
   "source": [
    "### Resting Place"
   ]
  },
  {
   "cell_type": "code",
   "execution_count": null,
   "metadata": {},
   "outputs": [],
   "source": []
  }
 ],
 "metadata": {
  "kernelspec": {
   "display_name": "Earthseed (Python 3.8)",
   "language": "python",
   "name": "earthseed"
  },
  "language_info": {
   "codemirror_mode": {
    "name": "ipython",
    "version": 3
   },
   "file_extension": ".py",
   "mimetype": "text/x-python",
   "name": "python",
   "nbconvert_exporter": "python",
   "pygments_lexer": "ipython3",
   "version": "3.8.1"
  }
 },
 "nbformat": 4,
 "nbformat_minor": 2
}
