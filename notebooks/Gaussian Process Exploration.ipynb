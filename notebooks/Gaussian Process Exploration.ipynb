{
 "cells": [
  {
   "cell_type": "markdown",
   "metadata": {},
   "source": [
    "## Gaussian Process Exploration\n",
    "<b>Objective:</b> Figure out how to model PLAsTiCC lightcurves with Gaussian Process Regression. <br>\n",
    "<b>Note:</b> I originally wanted to learn how to do this on my own using `george`, but later decided that that was not a good use of my time and effots. The notebook `Gaussian Process Avocado.ipynb` contains an example of modelling PLAsTiCC lightcurves with `avocado`."
   ]
  },
  {
   "cell_type": "code",
   "execution_count": 1,
   "metadata": {},
   "outputs": [],
   "source": [
    "# Imports\n",
    "\n",
    "# Standard\n",
    "import sys\n",
    "\n",
    "import numpy as np\n",
    "import pandas as pd\n",
    "import matplotlib.pyplot as plt\n",
    "from matplotlib import rcParams\n",
    "\n",
    "# Auxilliary\n",
    "import george\n",
    "from george import kernels\n",
    "\n",
    "from scipy.optimize import minimize"
   ]
  },
  {
   "cell_type": "code",
   "execution_count": 2,
   "metadata": {},
   "outputs": [
    {
     "name": "stdout",
     "output_type": "stream",
     "text": [
      "/astro/users/lfulmer/.conda/envs/earthseed/lib/python3.8/site-packages/george/__init__.py\n"
     ]
    }
   ],
   "source": [
    "print(george.__file__)"
   ]
  },
  {
   "cell_type": "code",
   "execution_count": 3,
   "metadata": {},
   "outputs": [],
   "source": [
    "# Settings\n",
    "rcParams['figure.figsize'] = [6.5, 6.5]\n",
    "rcParams['font.size'] = 10"
   ]
  },
  {
   "cell_type": "code",
   "execution_count": 5,
   "metadata": {},
   "outputs": [],
   "source": [
    "# PLAsTiCC Data\n",
    "\n",
    "# object_id, mjd, passband, flux, flux_err, detected\n",
    "train = pd.read_csv(\"../../../../plasticc/training_set.csv\")\n",
    "\n",
    "# object_id, ra, decl, gal_l, gal_b, ddf, hostgal_specz, hostgal_photoz, hostgal_photoz_err, distmod, mwebv, target\n",
    "train_meta = pd.read_csv(\"../../../../plasticc/training_set_metadata.csv\")"
   ]
  },
  {
   "cell_type": "code",
   "execution_count": null,
   "metadata": {},
   "outputs": [],
   "source": [
    "# Let's look at the data by individual class\n",
    "classes = train_meta['target'].unique()\n",
    "classes.sort()\n",
    "\n",
    "# Create a dictionary of classes and pull all of the training data (every single observation) for each class\n",
    "data_by_class = {cl : train[train['object_id'].isin(train_meta['object_id'][train_meta['target'] == cl])] \\\n",
    "                for cl in classes}\n",
    "\n",
    "# ... and look at the objects by class\n",
    "# Determine the unique objects within an individual class\n",
    "objects_by_class = {cl : data_by_class[cl]['object_id'].unique() \\\n",
    "                  for cl in classes}\n",
    "\n",
    "# ... and lightcurves by class\n",
    "# Sort all the data by object\n",
    "lightcurves_by_class = { cl : [ data_by_class[cl][data_by_class[cl]['object_id'] == o] for o in objects_by_class[cl] ] \\\n",
    "                       for cl in classes }"
   ]
  },
  {
   "cell_type": "code",
   "execution_count": null,
   "metadata": {},
   "outputs": [],
   "source": [
    "# Separate the lightcurves for each passband\n",
    "\n",
    "def lightcurves_by_passband(data):\n",
    "    return [ data[data['passband'] == i] for i in data['passband'].unique() ]\n",
    "\n",
    "def lightcurves_collect_passbands(data, passbands):\n",
    "    if type(passbands) == int:\n",
    "        return data[data['passband'] == passbands ]\n",
    "    \n",
    "    observations = pd.DataFrame(columns = data.columns)\n",
    "   \n",
    "    for i in range(len(data)):\n",
    "        if data.iloc[i]['passband'] in passbands:\n",
    "            observation = pd.DataFrame([data.iloc[i]], columns=data.columns)\n",
    "            observations = observations.append(observation, ignore_index=True)\n",
    "    return observations"
   ]
  },
  {
   "cell_type": "code",
   "execution_count": null,
   "metadata": {},
   "outputs": [],
   "source": [
    "# Model the lightcurves with gaussian processes\n",
    "\n",
    "def model_lightcurve(scale_length, x, y, yerr, ndim):\n",
    "    \n",
    "    def neg_ln_likelihood(p):\n",
    "        gp.set_parameter_vector(p)\n",
    "        return -gp.log_likelihood(y)\n",
    "\n",
    "    def grad_neg_ln_likelihood(p):\n",
    "        gp.set_parameter_vector(p)\n",
    "        return -gp.grad_log_likelihood(y)\n",
    "    \n",
    "    kernel = np.var(y) * kernels.ExpSquaredKernel(scale_length, ndim = ndim)\n",
    "    \n",
    "    gp = george.GP(kernel)\n",
    "    gp.compute(x, yerr)\n",
    "    \n",
    "    x_predict = np.linspace(min(x), max(x), 500)\n",
    "    predict, predict_var = gp.predict(y, x_predict, return_var = True)\n",
    "    result = minimize(neg_ln_likelihood, gp.get_parameter_vector(), jac = grad_neg_ln_likelihood)\n",
    "    gp.set_parameter_vector(result.x)\n",
    "\n",
    "    return x_predict, predict, predict_var"
   ]
  },
  {
   "cell_type": "code",
   "execution_count": null,
   "metadata": {},
   "outputs": [],
   "source": [
    "# Plot the light curve of a selected object in each passband\n",
    "def plot_lightcurves(cl, example_object, passbands):\n",
    "    data = lightcurves_by_class[cl][example_object]\n",
    "    \n",
    "    data_by_passband = lightcurves_by_passband(data)\n",
    "    data_collect_passbands = lightcurves_collect_passbands(data, passbands)\n",
    "    \n",
    "    passbands = { 0 : 'u', 1 : 'g', 2 : 'r', 3 : 'i', 4 : 'z', 5 : 'y' }\n",
    "    colors = { 0 : 'k', 1 : 'maroon', 2 : 'firebrick', 3 : 'crimson', 4 : 'tomato', 5 : 'lightsalmon' }\n",
    "    wavelengths_dictionary = { 0 : 3671.0, 1 : 4827.0, 2 : 6223.0, 3 : 7546.0, 4 : 8691.0, 5 : 9710.0 }\n",
    "    \n",
    "    times = data_collect_passbands['mjd']\n",
    "    # wavelengths = [wavelengths_dictionary.get(i) for i in data_collect_passbands['passband'].values]\n",
    "    \n",
    "\n",
    "    a,b = 2,3\n",
    "    plt.figure(figsize=(5.5*b, 5.5*a))\n",
    "    \n",
    "    for i, data_passband in enumerate(data_by_passband):\n",
    "            \n",
    "        # Variable definition\n",
    "        x = data_passband['mjd']\n",
    "        y = data_passband['flux']\n",
    "        y_err = data_passband['flux_err']\n",
    "            \n",
    "        scale_length = int(max(x) - min(x))\n",
    "        ndim = 1\n",
    "\n",
    "        x_predict, predict, predict_var = model_lightcurve(scale_length, x, y, y_err, ndim)\n",
    "            \n",
    "        # Plot\n",
    "        plt.subplot(a, b, i+1)\n",
    "        plt.errorbar(x, y, yerr = y_err, fmt = 'o',\\\n",
    "                    color = colors[i], markersize = 5, label=f\"{passbands[i]}\")\n",
    "            \n",
    "        plt.fill_between(x_predict, predict - np.sqrt(predict_var), \\\n",
    "                        predict + np.sqrt(predict_var), color = 'k', alpha = 0.2)\n",
    "            \n",
    "        plt.plot(x_predict, predict, 'k', lw = 1.5, alpha = 0.5)\n",
    "\n",
    "        plt.legend(loc='upper right', ncol=1)\n",
    "        plt.xlabel('Time [MJD]')\n",
    "        plt.ylabel('Flux')\n",
    "        plt.title(f'Class {cl} : Object {objects_by_class[cl][example_object]}', size=14)"
   ]
  },
  {
   "cell_type": "code",
   "execution_count": null,
   "metadata": {
    "scrolled": false
   },
   "outputs": [],
   "source": [
    "# Plot an example object, by bandpass\n",
    "\n",
    "cl = np.random.choice(classes)\n",
    "n_objects = len(lightcurves_by_class[cl])\n",
    "\n",
    "example_object = np.random.randint(n_objects)\n",
    "passbands = (0,1,2,3,4,5)\n",
    "\n",
    "# plot_lightcurves(cl, example_object, passbands, expand = False, model = False)\n",
    "plot_lightcurves(cl, example_object, passbands)"
   ]
  },
  {
   "cell_type": "markdown",
   "metadata": {},
   "source": [
    "## Resting place"
   ]
  },
  {
   "cell_type": "code",
   "execution_count": null,
   "metadata": {},
   "outputs": [],
   "source": []
  }
 ],
 "metadata": {
  "kernelspec": {
   "display_name": "Earthseed (Python 3.8)",
   "language": "python",
   "name": "earthseed"
  }
 },
 "nbformat": 4,
 "nbformat_minor": 2
}
